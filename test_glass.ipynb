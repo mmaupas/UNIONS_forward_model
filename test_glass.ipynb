{
 "cells": [
  {
   "cell_type": "code",
   "execution_count": 2,
   "metadata": {},
   "outputs": [],
   "source": [
    "import numpy as np\n",
    "import camb\n",
    "import fitsio\n",
    "import healpy as hp\n",
    "import os\n",
    "from cosmology import Cosmology\n",
    "import time\n",
    "\n",
    "#GLASS modules\n",
    "import glass.fields\n",
    "import glass.points\n",
    "import glass.shapes\n",
    "import glass.lensing\n",
    "import glass.observations\n",
    "import glass.galaxies\n",
    "import glass.ext.camb"
   ]
  },
  {
   "cell_type": "code",
   "execution_count": 3,
   "metadata": {},
   "outputs": [],
   "source": [
    "#define hyperparameters\n",
    "nbins = 1\n",
    "bz = 1.2\n",
    "phz_sigma_0 = 0.03\n",
    "h = 0.7\n",
    "Oc = 0.25\n",
    "Ob = 0.05\n",
    "dx = 500.0\n",
    "zmax = 2.0\n",
    "\n",
    "n_arcmin2 = 7.\n",
    "nside = 512\n",
    "sigma_e = 0.3\n",
    "\n",
    "lmax = nside"
   ]
  },
  {
   "cell_type": "code",
   "execution_count": 4,
   "metadata": {},
   "outputs": [],
   "source": [
    "pars = camb.set_params(H0=100*h, omch2=Oc*h**2, ombh2=Ob*h**2)"
   ]
  },
  {
   "cell_type": "code",
   "execution_count": 5,
   "metadata": {},
   "outputs": [],
   "source": [
    "cosmo = Cosmology.from_camb(pars)"
   ]
  },
  {
   "cell_type": "code",
   "execution_count": 6,
   "metadata": {},
   "outputs": [],
   "source": [
    "shells = glass.shells.distance_grid(cosmo, 0., zmax, dx=dx)\n",
    "\n",
    "weights = glass.shells.tophat_windows(shells, weight=glass.ext.camb.camb_tophat_weight)"
   ]
  },
  {
   "cell_type": "code",
   "execution_count": 8,
   "metadata": {},
   "outputs": [],
   "source": [
    "cls = glass.ext.camb.matter_cls(pars, lmax, weights)"
   ]
  },
  {
   "cell_type": "code",
   "execution_count": null,
   "metadata": {},
   "outputs": [],
   "source": [
    "cls.shape"
   ]
  }
 ],
 "metadata": {
  "kernelspec": {
   "display_name": "nbodykit-env",
   "language": "python",
   "name": "python3"
  },
  "language_info": {
   "codemirror_mode": {
    "name": "ipython",
    "version": 3
   },
   "file_extension": ".py",
   "mimetype": "text/x-python",
   "name": "python",
   "nbconvert_exporter": "python",
   "pygments_lexer": "ipython3",
   "version": "3.8.19"
  }
 },
 "nbformat": 4,
 "nbformat_minor": 2
}
